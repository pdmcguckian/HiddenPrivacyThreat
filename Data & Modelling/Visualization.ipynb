{
 "cells": [
  {
   "cell_type": "code",
   "execution_count": null,
   "metadata": {},
   "outputs": [],
   "source": [
    "import pandas as pd\n",
    "import time\n",
    "import matplotlib.pyplot as plt\n",
    "import numpy as np"
   ]
  },
  {
   "cell_type": "code",
   "execution_count": null,
   "metadata": {},
   "outputs": [],
   "source": [
    "file_path = \"/Users/pdmcguckian/Documents/IoT/Project/SIoT/Data & Modelling/BLEData.csv\"\n",
    "data_set = pd.read_csv(file_path)\n",
    "dataset = pd.DataFrame(data_set)\n",
    "dataset.fillna(0)\n",
    "\n",
    "print(\"Dimension of dataset: \", dataset.shape)\n",
    "tmp_str = \"Feature(attribute)     DataType\"; print(tmp_str+\"\\n\"+\"-\"*len(tmp_str))\n",
    "print(dataset.dtypes)"
   ]
  },
  {
   "cell_type": "code",
   "execution_count": null,
   "metadata": {},
   "outputs": [],
   "source": [
    "dataset = dataset.drop(['_id'], axis=1)\n",
    "\n",
    "for i in range(len(dataset['timeStampID'])):\n",
    "    try:\n",
    "        unix = dataset['timeStampID'][i]\n",
    "        timestr = time.ctime(unix)[11:19]\n",
    "        dataset['timeStampID'][i] = timestr\n",
    "    except:\n",
    "        dataset['timeStampID'][i] = 0\n",
    "\n",
    "dataset.head()"
   ]
  },
  {
   "cell_type": "code",
   "execution_count": null,
   "metadata": {},
   "outputs": [],
   "source": [
    "times = [[]]\n",
    "bdrms = [[]]\n",
    "ktchns = [[]]\n",
    "lvngrms = [[]]\n",
    "\n",
    "day = 0\n",
    "for index, row in dataset.iterrows():\n",
    "    if row['timeStampID'] == \"12:00:00\":\n",
    "        day += 1\n",
    "        print(row)\n",
    "        times.append([])\n",
    "        bdrms.append([])\n",
    "        ktchns.append([])\n",
    "        lvngrms.append([])\n",
    "\n",
    "    times[day].append(row['timeStampID'])\n",
    "    bdrms[day].append(row['rssiBDRM'])\n",
    "    ktchns[day].append(row['rssiKTCHN'])\n",
    "    lvngrms[day].append(row['rssiLVNGRM'])"
   ]
  },
  {
   "cell_type": "code",
   "execution_count": null,
   "metadata": {},
   "outputs": [],
   "source": [
    "for i in range(1, len(times)-1):\n",
    "    fig, ax = plt.subplots()\n",
    "    ax.plot(times[i][:1400], bdrms[i][:1400], linewidth=1.0, label = \"Bedroom\")\n",
    "    ax.plot(times[i][:1400], lvngrms[i][:1400], linewidth=1.0, label = \"Living Room\")\n",
    "    ax.plot(times[i][:1400], ktchns[i][:1400], linewidth=1.0, label = \"Kitchen\")\n",
    "    \n",
    "    every_nth = 240\n",
    "    for n, label in enumerate(ax.xaxis.get_ticklabels()):\n",
    "        if n % every_nth != 0:\n",
    "            label.set_visible(False)\n",
    "\n",
    "    plt.show()"
   ]
  },
  {
   "cell_type": "code",
   "execution_count": null,
   "metadata": {},
   "outputs": [],
   "source": [
    "bdrmsbools = [[]]\n",
    "ktchnsbools = [[]]\n",
    "lvngrmsbools = [[]]\n",
    "wybool = [[]]\n",
    "\n",
    "def running_mean(x, N):\n",
    "    cumsum = np.cumsum(np.insert(x, 0, 0)) \n",
    "    return (cumsum[N:] - cumsum[:-N]) / float(N)\n",
    "\n",
    "\n",
    "#for i in range(len(times)):\n",
    "#        bdrms[i] = running_mean(bdrms[i], 5)\n",
    "#        lvngrms[i] = running_mean(lvngrms[i], 5)\n",
    "#        ktchns[i] = running_mean(ktchns[i], 5)\n",
    "\n",
    "day = 0\n",
    "for i in range(len(lvngrms)):\n",
    "    for j in range(len(lvngrms[i])):\n",
    "        bdrm = bdrms[i][j]\n",
    "        lvngrm = lvngrms[i][j]\n",
    "        ktchn = ktchns[i][j]\n",
    "\n",
    "        if bdrm == -100 and ktchn == -100 and lvngrm == -100:\n",
    "            wybool[day].append(1)\n",
    "            ktchnsbools[day].append(0)\n",
    "            bdrmsbools[day].append(0)\n",
    "            lvngrmsbools[day].append(0)\n",
    "\n",
    "        elif bdrm >= ktchn and bdrm >= lvngrm:\n",
    "            wybool[day].append(0)\n",
    "            ktchnsbools[day].append(0)\n",
    "            bdrmsbools[day].append(1)\n",
    "            lvngrmsbools[day].append(0)\n",
    "\n",
    "        elif ktchn >= bdrm and ktchn >= lvngrm:\n",
    "            wybool[day].append(0)\n",
    "            ktchnsbools[day].append(1)\n",
    "            bdrmsbools[day].append(0)\n",
    "            lvngrmsbools[day].append(0)\n",
    "\n",
    "        elif lvngrm >= bdrm and lvngrm >= ktchn:\n",
    "            wybool[day].append(0)\n",
    "            ktchnsbools[day].append(0)\n",
    "            bdrmsbools[day].append(0)\n",
    "            lvngrmsbools[day].append(1)\n",
    "\n",
    "        if sum(wybool[-1]) == 1440:\n",
    "            print()\n",
    "            wybool.pop()\n",
    "            ktchnsbools.pop()\n",
    "            bdrmsbools.pop()\n",
    "            lvngrmsbools.pop()\n",
    "            day-=1\n",
    "    day+=1\n",
    "    wybool.append([])\n",
    "    ktchnsbools.append([])\n",
    "    bdrmsbools.append([])\n",
    "    lvngrmsbools.append([])\n"
   ]
  },
  {
   "cell_type": "code",
   "execution_count": null,
   "metadata": {},
   "outputs": [],
   "source": [
    "\n",
    "for i in range(1, len(wybool)):\n",
    "    try:\n",
    "        fig, ax = plt.subplots()\n",
    "        ax.plot(times[i][:1440], bdrmsbools[i][:1440], linewidth=1.0, label = \"Bedroom\")\n",
    "        ax.plot(times[i][:1440], lvngrmsbools[i][:1440], linewidth=1.0, label = \"Living Room\")\n",
    "        ax.plot(times[i][:1440], ktchnsbools[i][:1440], linewidth=1.0, label = \"Kitchen\")\n",
    "        \n",
    "        every_nth = 240\n",
    "        for n, label in enumerate(ax.xaxis.get_ticklabels()):\n",
    "            if n % every_nth != 0:\n",
    "                label.set_visible(False)\n",
    "\n",
    "        plt.show()\n",
    "    except:\n",
    "        pass"
   ]
  },
  {
   "cell_type": "code",
   "execution_count": null,
   "metadata": {},
   "outputs": [],
   "source": []
  }
 ],
 "metadata": {
  "interpreter": {
   "hash": "aee8b7b246df8f9039afb4144a1f6fd8d2ca17a180786b69acc140d282b71a49"
  },
  "kernelspec": {
   "display_name": "Python 3.9.7 64-bit",
   "language": "python",
   "name": "python3"
  },
  "language_info": {
   "codemirror_mode": {
    "name": "ipython",
    "version": 3
   },
   "file_extension": ".py",
   "mimetype": "text/x-python",
   "name": "python",
   "nbconvert_exporter": "python",
   "pygments_lexer": "ipython3",
   "version": "3.9.7"
  },
  "orig_nbformat": 4
 },
 "nbformat": 4,
 "nbformat_minor": 2
}
