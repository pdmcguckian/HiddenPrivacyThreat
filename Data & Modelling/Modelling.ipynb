{
 "cells": [
  {
   "cell_type": "markdown",
   "metadata": {},
   "source": [
    "This script is used to train and compare prediction models for Alcohol Consumption & Sleep Data"
   ]
  },
  {
   "cell_type": "code",
   "execution_count": null,
   "metadata": {},
   "outputs": [],
   "source": [
    "#Import all the required packages\n",
    "from numpy.lib.twodim_base import diagflat\n",
    "import pymongo\n",
    "import csv\n",
    "import pandas as pd\n",
    "import numpy as np\n",
    "from sklearn import svm, tree\n",
    "from sklearn.linear_model import LogisticRegression\n",
    "from sklearn.ensemble import RandomForestClassifier\n",
    "from sklearn.preprocessing import PolynomialFeatures\n",
    "from sklearn.model_selection import cross_val_score\n",
    "from sklearn.preprocessing import StandardScaler\n",
    "import pickle"
   ]
  },
  {
   "cell_type": "code",
   "execution_count": null,
   "metadata": {},
   "outputs": [],
   "source": [
    "#Import data and process dataframe\n",
    "\n",
    "#Dictionary data with dimensionality of 4 vales (Time in and each rooms RSSI)\n",
    "dimension_reduced_ble = {}\n",
    "\n",
    "#Opens raw BLE Data\n",
    "with open('/Users/pdmcguckian/Documents/IoT/BLEData.csv', 'r') as file:\n",
    "    \n",
    "    count = 0 #Keeps track of minute\n",
    "    date = 12 #Keeps track of date\n",
    "    bdrm = 0 #Daily bedrrom minutes\n",
    "    lvngrm = 0 #Daily livingroom minutes\n",
    "    ktchn = 0 #daily ktichen minutes\n",
    "    real = False #flag to note if i entered the house on this data\n",
    "\n",
    "    #Loops throuhgh every row of eacxh data\n",
    "    reader = csv.reader(file)\n",
    "    for row in reader:\n",
    "\n",
    "        #If 1440 minutes have been processed, save days worth of data and reset to collect next tdat\n",
    "        if count == 1440:\n",
    "            \n",
    "            if date == 27:\n",
    "                date = 28\n",
    "\n",
    "            dimension_reduced_ble[date] = [timein, lvngrm, bdrm, ktchn]\n",
    "            count = 0\n",
    "            bdrm = 0\n",
    "            lvngrm = 0\n",
    "            ktchn = 0\n",
    "            date += 1\n",
    "            timein = 0\n",
    "            real = False\n",
    "\n",
    "        #Increases minute counter\n",
    "        count +=1\n",
    "\n",
    "        #Try Excepts incase any values were missing or inccorect\n",
    "        try:\n",
    "            lvngrmRSSI = int(row[1])\n",
    "        except:\n",
    "            lvngrmRSSI = -100\n",
    "        \n",
    "        try:\n",
    "            bdrmRSSI = int(row[2])\n",
    "        except:\n",
    "            bdrmRSSI = -100\n",
    "        \n",
    "        try:\n",
    "            ktchnRSSI = int(row[3])\n",
    "        except:\n",
    "            ktchnRSSI = -100\n",
    "\n",
    "        #If not in in ignore point\n",
    "        if (bdrmRSSI == -100 and lvngrmRSSI == -100 and ktchnRSSI == -100):\n",
    "            pass\n",
    "\n",
    "        #If in bedroom\n",
    "        elif (bdrmRSSI >= ktchnRSSI and bdrmRSSI >= lvngrmRSSI):\n",
    "            bdrm+=1\n",
    "\n",
    "            #First value in the house is saved as the time in the door\n",
    "            if not real:\n",
    "                timein = count\n",
    "            real = True\n",
    "\n",
    "        #If in livingroom\n",
    "        elif (lvngrmRSSI >= bdrmRSSI and lvngrmRSSI >= ktchnRSSI):\n",
    "            lvngrm += 1\n",
    "\n",
    "            #First value in the house is saved as the time in the door\n",
    "            if not real:\n",
    "                timein = count\n",
    "            real = True\n",
    "\n",
    "        #If in kitchen\n",
    "        elif (ktchnRSSI >= bdrmRSSI and ktchnRSSI >= lvngrmRSSI):\n",
    "            ktchn+=1\n",
    "\n",
    "            #First value in the house is saved as the time in the door\n",
    "            if not real:\n",
    "                timein = count\n",
    "            real = True\n",
    "        pass\n",
    "\n",
    "print(dimension_reduced_ble)"
   ]
  },
  {
   "cell_type": "code",
   "execution_count": null,
   "metadata": {},
   "outputs": [],
   "source": [
    "#Loop to go add fitbit data to create dataset\n",
    "\n",
    "#Array to store final dataset\n",
    "dataset = []\n",
    "\n",
    "#Loops through every days worth of data in predictiion set\n",
    "with open('/Users/pdmcguckian/Documents/IoT/PredictionData.csv', 'r') as file:\n",
    "    reader = csv.reader(file)\n",
    "    for row in reader:\n",
    "        date = int(row[0])\n",
    "        alcohol = int(row[1])\n",
    "        sleep = int(row[2])\n",
    "\n",
    "        #Converts sleep effiency to boolean value\n",
    "        if sleep != 0:\n",
    "            if sleep > 84:\n",
    "                sleep_quality = 1\n",
    "\n",
    "            else:\n",
    "                sleep_quality = 0\n",
    "\n",
    "            #Creates complete 6 valuye instance\n",
    "            instance = [alcohol, sleep_quality, dimension_reduced_ble[date][0], dimension_reduced_ble[date][1], dimension_reduced_ble[date][2], dimension_reduced_ble[date][3]]\n",
    "            \n",
    "            #Adds it to dataset\n",
    "            dataset.append(instance)"
   ]
  },
  {
   "cell_type": "code",
   "execution_count": null,
   "metadata": {},
   "outputs": [],
   "source": [
    "#Converts dataset to dataframe \n",
    "df = pd.DataFrame(dataset, columns=['Alcohol', 'Sleep', 'TimeIn', 'LivingRoom', 'Bedroom', 'Kitchen'])\n",
    "\n",
    "#Shuffle datadet\n",
    "df = df.sample(frac=1, random_state=42).reset_index(drop=True)\n",
    "print(df)"
   ]
  },
  {
   "cell_type": "code",
   "execution_count": null,
   "metadata": {},
   "outputs": [],
   "source": [
    "#Creates splits into x values, and Y values for sleep and alcohol\n",
    "\n",
    "X = df.drop(columns=[\"Alcohol\", \"Sleep\"])\n",
    "y_s = df['Sleep']\n",
    "y_a = df['Alcohol']"
   ]
  },
  {
   "cell_type": "code",
   "execution_count": null,
   "metadata": {},
   "outputs": [],
   "source": [
    "#Train and test SVM\n",
    "\n",
    "clf = svm.SVC(kernel='linear', C=10)\n",
    "scores_s = cross_val_score(clf, X, y_s, cv=3)\n",
    "scores_a = cross_val_score(clf, X, y_a, cv=3)\n",
    "\n",
    "print(\"Sleep - SVM: %0.2f accuracy with a standard deviation of %0.2f\" % (scores_s.mean(), scores_s.std())) \n",
    "print(\"Alcohol - SVM: %0.2f accuracy with a standard deviation of %0.2f\" % (scores_a.mean(), scores_a.std())) \n"
   ]
  },
  {
   "cell_type": "code",
   "execution_count": null,
   "metadata": {},
   "outputs": [],
   "source": [
    "#Train and test Decison Tree\n",
    "\n",
    "clf = tree.DecisionTreeClassifier(max_depth = 2, min_impurity_decrease=0.0)\n",
    "scores_s = cross_val_score(clf, X, y_s, cv=3)\n",
    "scores_a = cross_val_score(clf, X, y_a, cv=3)\n",
    "\n",
    "print(\"Sleep - Decision Tree: %0.2f accuracy with a standard deviation of %0.2f\" % (scores_s.mean(), scores_s.std()))\n",
    "print(\"Alcohol - Decision Tree: %0.2f accuracy with a standard deviation of %0.2f\" % (scores_a.mean(), scores_a.std()))"
   ]
  },
  {
   "cell_type": "code",
   "execution_count": null,
   "metadata": {},
   "outputs": [],
   "source": [
    "#Train and test logistic regression\n",
    "\n",
    "clf = LogisticRegression(max_iter=1300, C=100)\n",
    "scores_s = cross_val_score(clf, X, y_s, cv=3)\n",
    "scores_a = cross_val_score(clf, X, y_a, cv=3)\n",
    "\n",
    "print(\"Sleep - Logistic Regressioin: %0.2f accuracy with a standard deviation of %0.2f\" % (scores_s.mean(), scores_s.std()))\n",
    "print(\"Alcohol - Logistic Regressioin: %0.2f accuracy with a standard deviation of %0.2f\" % (scores_a.mean(), scores_a.std()))"
   ]
  },
  {
   "cell_type": "code",
   "execution_count": null,
   "metadata": {},
   "outputs": [],
   "source": [
    "#Train and test ploynomial logistic regression\n",
    "\n",
    "poly = PolynomialFeatures(degree = 2, interaction_only=False, include_bias=False)\n",
    "X = poly.fit_transform(X)\n",
    "clf = LogisticRegression(max_iter=1300, C=100)\n",
    "scores_s = cross_val_score(clf, X, y_s, cv=3)\n",
    "scores_a = cross_val_score(clf, X, y_a, cv=3)\n",
    "\n",
    "print(\"Sleep - Poly Logistic Regressioin: %0.2f accuracy with a standard deviation of %0.2f\" % (scores_s.mean(), scores_s.std()))\n",
    "print(\"Alcohol - Poly Logistic Regressioin: %0.2f accuracy with a standard deviation of %0.2f\" % (scores_a.mean(), scores_a.std()))"
   ]
  }
 ],
 "metadata": {
  "interpreter": {
   "hash": "aee8b7b246df8f9039afb4144a1f6fd8d2ca17a180786b69acc140d282b71a49"
  },
  "kernelspec": {
   "display_name": "Python 3.9.7 64-bit",
   "language": "python",
   "name": "python3"
  },
  "language_info": {
   "codemirror_mode": {
    "name": "ipython",
    "version": 3
   },
   "file_extension": ".py",
   "mimetype": "text/x-python",
   "name": "python",
   "nbconvert_exporter": "python",
   "pygments_lexer": "ipython3",
   "version": "3.9.7"
  },
  "orig_nbformat": 4
 },
 "nbformat": 4,
 "nbformat_minor": 2
}
