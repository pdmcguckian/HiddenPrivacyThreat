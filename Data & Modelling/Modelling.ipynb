{
 "cells": [
  {
   "cell_type": "code",
   "execution_count": 1,
   "metadata": {},
   "outputs": [],
   "source": [
    "from numpy.lib.twodim_base import diagflat\n",
    "import pymongo\n",
    "import csv\n",
    "import pandas as pd\n",
    "import numpy as np\n",
    "from sklearn import svm, tree\n",
    "from sklearn.linear_model import LogisticRegression\n",
    "from sklearn.ensemble import RandomForestClassifier\n",
    "from sklearn.preprocessing import PolynomialFeatures\n",
    "from sklearn.model_selection import cross_val_score\n",
    "from sklearn.preprocessing import StandardScaler\n",
    "import pickle"
   ]
  },
  {
   "cell_type": "code",
   "execution_count": 2,
   "metadata": {},
   "outputs": [
    {
     "name": "stdout",
     "output_type": "stream",
     "text": [
      "{12: [646, 4, 508, 22], 13: [0, 0, 0, 0], 14: [0, 0, 0, 0], 15: [468, 126, 582, 35], 16: [481, 26, 616, 87], 17: [753, 13, 569, 4], 18: [730, 0, 646, 8], 19: [0, 0, 0, 0], 20: [654, 75, 612, 8], 21: [464, 111, 660, 35], 22: [523, 8, 640, 40], 23: [497, 7, 688, 59], 24: [574, 17, 563, 2], 25: [525, 118, 581, 9], 26: [0, 0, 0, 0], 28: [0, 0, 0, 0], 29: [0, 0, 0, 0], 30: [634, 91, 473, 35], 31: [0, 0, 0, 0], 32: [695, 28, 554, 30], 33: [520, 21, 557, 73], 34: [398, 34, 738, 112], 35: [656, 69, 544, 22]}\n"
     ]
    }
   ],
   "source": [
    "dimension_reduced_ble = {}\n",
    "with open('/Users/pdmcguckian/Documents/IoT/BLEData.csv', 'r') as file:\n",
    "    count = 0\n",
    "    date = 12\n",
    "    bdrm = 0\n",
    "    lvngrm = 0\n",
    "    ktchn = 0\n",
    "    real = False\n",
    "\n",
    "    reader = csv.reader(file)\n",
    "    for row in reader:\n",
    "        if count == 1440:\n",
    "            \n",
    "            if date == 27:\n",
    "                date = 28\n",
    "\n",
    "            dimension_reduced_ble[date] = [timein, lvngrm, bdrm, ktchn]\n",
    "            count = 0\n",
    "            bdrm = 0\n",
    "            lvngrm = 0\n",
    "            ktchn = 0\n",
    "            date += 1\n",
    "            timein = 0\n",
    "            real = False\n",
    "\n",
    "        count +=1\n",
    "\n",
    "        try:\n",
    "            lvngrmRSSI = int(row[1])\n",
    "        except:\n",
    "            lvngrmRSSI = -100\n",
    "        \n",
    "        try:\n",
    "            bdrmRSSI = int(row[2])\n",
    "        except:\n",
    "            bdrmRSSI = -100\n",
    "        \n",
    "        try:\n",
    "            ktchnRSSI = int(row[3])\n",
    "        except:\n",
    "            ktchnRSSI = -100\n",
    "\n",
    "        if (bdrmRSSI == -100 and lvngrmRSSI == -100 and ktchnRSSI == -100):\n",
    "            pass\n",
    "\n",
    "        elif (bdrmRSSI >= ktchnRSSI and bdrmRSSI >= lvngrmRSSI):\n",
    "            bdrm+=1\n",
    "\n",
    "            if not real:\n",
    "                timein = count\n",
    "            real = True\n",
    "\n",
    "        elif (lvngrmRSSI >= bdrmRSSI and lvngrmRSSI >= ktchnRSSI):\n",
    "            lvngrm += 1\n",
    "            if not real:\n",
    "                timein = count\n",
    "            real = True\n",
    "\n",
    "        elif (ktchnRSSI >= bdrmRSSI and ktchnRSSI >= lvngrmRSSI):\n",
    "            ktchn+=1\n",
    "            if not real:\n",
    "                timein = count\n",
    "            real = True\n",
    "        pass\n",
    "\n",
    "print(dimension_reduced_ble)"
   ]
  },
  {
   "cell_type": "code",
   "execution_count": 3,
   "metadata": {},
   "outputs": [],
   "source": [
    "dataset = []\n",
    "with open('/Users/pdmcguckian/Documents/IoT/PredictionData.csv', 'r') as file:\n",
    "    reader = csv.reader(file)\n",
    "    for row in reader:\n",
    "        date = int(row[0])\n",
    "        alcohol = int(row[1])\n",
    "        sleep = int(row[2])\n",
    "\n",
    "        if sleep != 0:\n",
    "            if sleep > 84:\n",
    "                sleep_quality = 1\n",
    "\n",
    "            else:\n",
    "                sleep_quality = 0\n",
    "\n",
    "            instance = [alcohol, sleep_quality, dimension_reduced_ble[date][0], dimension_reduced_ble[date][1], dimension_reduced_ble[date][2], dimension_reduced_ble[date][3]]\n",
    "            dataset.append(instance)"
   ]
  },
  {
   "cell_type": "code",
   "execution_count": 4,
   "metadata": {},
   "outputs": [
    {
     "name": "stdout",
     "output_type": "stream",
     "text": [
      "    Alcohol  Sleep  TimeIn  LivingRoom  Bedroom  Kitchen\n",
      "0         0      1     646           4      508       22\n",
      "1         1      1     468         126      582       35\n",
      "2         0      1     523           8      640       40\n",
      "3         0      1       0           0        0        0\n",
      "4         0      0     753          13      569        4\n",
      "5         0      0       0           0        0        0\n",
      "6         1      1     398          34      738      112\n",
      "7         1      0     520          21      557       73\n",
      "8         0      0     525         118      581        9\n",
      "9         0      1     481          26      616       87\n",
      "10        1      1     497           7      688       59\n",
      "11        1      0     656          69      544       22\n",
      "12        0      0     730           0      646        8\n",
      "13        1      0     634          91      473       35\n",
      "14        1      1     464         111      660       35\n",
      "15        0      0     574          17      563        2\n",
      "16        0      0     695          28      554       30\n",
      "17        1      1     654          75      612        8\n"
     ]
    }
   ],
   "source": [
    "df = pd.DataFrame(dataset, columns=['Alcohol', 'Sleep', 'TimeIn', 'LivingRoom', 'Bedroom', 'Kitchen'])\n",
    "df = df.sample(frac=1, random_state=42).reset_index(drop=True)\n",
    "print(df)"
   ]
  },
  {
   "cell_type": "code",
   "execution_count": 5,
   "metadata": {},
   "outputs": [],
   "source": [
    "X = df.drop(columns=[\"Alcohol\", \"Sleep\"])\n",
    "y_s = df['Sleep']\n",
    "y_a = df['Alcohol']"
   ]
  },
  {
   "cell_type": "code",
   "execution_count": 6,
   "metadata": {},
   "outputs": [
    {
     "name": "stdout",
     "output_type": "stream",
     "text": [
      "Sleep - SVM: 0.61 accuracy with a standard deviation of 0.16\n",
      "Alcohol - SVM: 0.78 accuracy with a standard deviation of 0.21\n"
     ]
    }
   ],
   "source": [
    "clf = svm.SVC(kernel='linear', C=10)\n",
    "scores_s = cross_val_score(clf, X, y_s, cv=3)\n",
    "scores_a = cross_val_score(clf, X, y_a, cv=3)\n",
    "\n",
    "print(\"Sleep - SVM: %0.2f accuracy with a standard deviation of %0.2f\" % (scores_s.mean(), scores_s.std())) \n",
    "print(\"Alcohol - SVM: %0.2f accuracy with a standard deviation of %0.2f\" % (scores_a.mean(), scores_a.std())) \n"
   ]
  },
  {
   "cell_type": "code",
   "execution_count": 7,
   "metadata": {},
   "outputs": [
    {
     "name": "stdout",
     "output_type": "stream",
     "text": [
      "Sleep - Decision Tree: 0.61 accuracy with a standard deviation of 0.16\n",
      "Alcohol - Decision Tree: 0.72 accuracy with a standard deviation of 0.16\n"
     ]
    }
   ],
   "source": [
    "clf = tree.DecisionTreeClassifier(max_depth = 2, min_impurity_decrease=0.0)\n",
    "scores_s = cross_val_score(clf, X, y_s, cv=3)\n",
    "scores_a = cross_val_score(clf, X, y_a, cv=3)\n",
    "\n",
    "print(\"Sleep - Decision Tree: %0.2f accuracy with a standard deviation of %0.2f\" % (scores_s.mean(), scores_s.std()))\n",
    "print(\"Alcohol - Decision Tree: %0.2f accuracy with a standard deviation of %0.2f\" % (scores_a.mean(), scores_a.std()))"
   ]
  },
  {
   "cell_type": "code",
   "execution_count": 8,
   "metadata": {},
   "outputs": [
    {
     "name": "stdout",
     "output_type": "stream",
     "text": [
      "Sleep - Logistic Regressioin: 0.61 accuracy with a standard deviation of 0.16\n",
      "Alcohol - Logistic Regressioin: 0.78 accuracy with a standard deviation of 0.21\n"
     ]
    }
   ],
   "source": [
    "clf = LogisticRegression(max_iter=1300, C=100)\n",
    "scores_s = cross_val_score(clf, X, y_s, cv=3)\n",
    "scores_a = cross_val_score(clf, X, y_a, cv=3)\n",
    "\n",
    "print(\"Sleep - Logistic Regressioin: %0.2f accuracy with a standard deviation of %0.2f\" % (scores_s.mean(), scores_s.std()))\n",
    "print(\"Alcohol - Logistic Regressioin: %0.2f accuracy with a standard deviation of %0.2f\" % (scores_a.mean(), scores_a.std()))"
   ]
  },
  {
   "cell_type": "code",
   "execution_count": 9,
   "metadata": {},
   "outputs": [
    {
     "name": "stdout",
     "output_type": "stream",
     "text": [
      "Sleep - Poly Logistic Regressioin: 0.61 accuracy with a standard deviation of 0.21\n",
      "Alcohol - Poly Logistic Regressioin: 0.56 accuracy with a standard deviation of 0.08\n"
     ]
    }
   ],
   "source": [
    "poly = PolynomialFeatures(degree = 2, interaction_only=False, include_bias=False)\n",
    "X = poly.fit_transform(X)\n",
    "clf = LogisticRegression(max_iter=1300, C=100)\n",
    "scores_s = cross_val_score(clf, X, y_s, cv=3)\n",
    "scores_a = cross_val_score(clf, X, y_a, cv=3)\n",
    "\n",
    "print(\"Sleep - Poly Logistic Regressioin: %0.2f accuracy with a standard deviation of %0.2f\" % (scores_s.mean(), scores_s.std()))\n",
    "print(\"Alcohol - Poly Logistic Regressioin: %0.2f accuracy with a standard deviation of %0.2f\" % (scores_a.mean(), scores_a.std()))"
   ]
  }
 ],
 "metadata": {
  "interpreter": {
   "hash": "aee8b7b246df8f9039afb4144a1f6fd8d2ca17a180786b69acc140d282b71a49"
  },
  "kernelspec": {
   "display_name": "Python 3.9.7 64-bit",
   "language": "python",
   "name": "python3"
  },
  "language_info": {
   "codemirror_mode": {
    "name": "ipython",
    "version": 3
   },
   "file_extension": ".py",
   "mimetype": "text/x-python",
   "name": "python",
   "nbconvert_exporter": "python",
   "pygments_lexer": "ipython3",
   "version": "3.9.7"
  },
  "orig_nbformat": 4
 },
 "nbformat": 4,
 "nbformat_minor": 2
}
